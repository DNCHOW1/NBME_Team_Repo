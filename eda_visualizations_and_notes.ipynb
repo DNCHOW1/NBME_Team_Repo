{
 "cells": [
  {
   "cell_type": "code",
   "execution_count": 1,
   "metadata": {},
   "outputs": [],
   "source": [
    "import pandas as pd\n",
    "import seaborn as sns\n",
    "import matplotlib.pyplot as plt\n",
    "import re\n",
    "from wordcloud import WordCloud\n",
    "from sklearn.feature_extraction.text import CountVectorizer"
   ]
  },
  {
   "cell_type": "code",
   "execution_count": 76,
   "metadata": {},
   "outputs": [],
   "source": [
    "training = pd.read_csv(\"train.csv\")\n",
    "pNotes = pd.read_csv(\"patient_notes.csv\")\n",
    "feat = pd.read_csv(\"features.csv\")"
   ]
  },
  {
   "cell_type": "markdown",
   "metadata": {},
   "source": [
    "# Creating Plot For \"Feature Count vs. Case #\""
   ]
  },
  {
   "cell_type": "code",
   "execution_count": 75,
   "metadata": {},
   "outputs": [
    {
     "data": {
      "text/plain": [
       "(7.0, 19.0)"
      ]
     },
     "execution_count": 75,
     "metadata": {},
     "output_type": "execute_result"
    },
    {
     "data": {
      "image/png": "[encoded data removed]",
      "text/plain": [
       "<Figure size 720x432 with 1 Axes>"
      ]
     },
     "metadata": {},
     "output_type": "display_data"
    }
   ],
   "source": [
    "case_by_featnum = feat.groupby(\"case_num\").feature_num.count()\n",
    "\n",
    "# Set style\n",
    "sns.set_style(\"darkgrid\")\n",
    "# Set size\n",
    "plt.figure(figsize=(10,6))\n",
    "# Add Title\n",
    "plt.title(\"Feature Count vs. Case #\")\n",
    "# Bar Chart\n",
    "sns.barplot(x=case_by_featnum.index, y=case_by_featnum, palette=sns.color_palette('Blues', n_colors=5, desat=.75))\n",
    "# Change Y limit\n",
    "plt.ylim(7, 19)"
   ]
  },
  {
   "cell_type": "markdown",
   "metadata": {},
   "source": [
    "# Creating Plot for \"Distribution of Patient per Case #\""
   ]
  },
  {
   "cell_type": "code",
   "execution_count": 74,
   "metadata": {},
   "outputs": [
    {
     "data": {
      "text/plain": [
       "<AxesSubplot:title={'center':'Patient Note Count vs. Case #'}, xlabel='case_num'>"
      ]
     },
     "execution_count": 74,
     "metadata": {},
     "output_type": "execute_result"
    },
    {
     "data": {
      "image/png": "[encoded data removed]",
      "text/plain": [
       "<Figure size 720x432 with 1 Axes>"
      ]
     },
     "metadata": {},
     "output_type": "display_data"
    }
   ],
   "source": [
    "case_by_pnum = pNotes.groupby(\"case_num\").size()\n",
    "\n",
    "# Set style\n",
    "sns.set_style(\"whitegrid\")\n",
    "# Set size\n",
    "plt.figure(figsize=(10,6))\n",
    "# Add Title\n",
    "plt.title(\"Patient Note Count vs. Case #\")\n",
    "# Bar Chart\n",
    "sns.barplot(x=case_by_pnum.index, y=case_by_pnum, palette=sns.color_palette('Reds', n_colors=5))"
   ]
  },
  {
   "cell_type": "markdown",
   "metadata": {},
   "source": [
    "# Overall Goal\n",
    "\n",
    "### Domain problem is span prediction, specifically multi-span predicition\n",
    "\n",
    "### Current goal is to query patient notes with a case # and feature # in mind and return locations of closest matches\n",
    "\n",
    "### Name Entity Recognition could be a subproblem, not sure\n",
    "\n",
    "https://www.kaggle.com/c/nbme-score-clinical-patient-notes/discussion/306717"
   ]
  },
  {
   "cell_type": "markdown",
   "metadata": {},
   "source": [
    "# Interesting Observations\n",
    "\n",
    "\n",
    "* 1000 unique patients\n",
    "* Total of 12234 annotations in training data, 2 rows has 7 and 8 annotations respectively, 4399 rows have missing\n",
    "    - Possible to annotate ourselves using multiple different methods\n",
    "        - Exact matches, see more: https://www.kaggle.com/wuyhbb/get-more-training-data-with-exact-match\n",
    "        - Similar matches, similarity score and threshold used to annotate\n",
    "* Feature text has OR a lot and many entries could be generous for threshold.\n",
    "    * 000 and 001, family could include Father, Mother, Aunt, Brother, Sister, etc.\n",
    "    * 101, weight-loss could be \"clothes are looser\", \"can't fit in pants\", etc.\n",
    "* Quotes in patient notes could be useless, will hold off on scrapping them though\n",
    "* In patient notes there are a ton of abbreviations, some links below cover them:\n",
    "    * https://www.kaggle.com/c/nbme-score-clinical-patient-notes/discussion/304607\n",
    "    * https://www.kaggle.com/c/nbme-score-clinical-patient-notes/discussion/307905\n",
    "    * https://www.kaggle.com/abdelrhmanhosny/eda-abbreviations-word-counts\n",
    "    * https://static1.squarespace.com/static/5899cafd03596edea584afca/t/5aa7db4fc83025af3fd36716/1520950096544/Common+abbreviations+for+the+patient+note+USMLE+step+2CS.pdf"
   ]
  },
  {
   "cell_type": "markdown",
   "metadata": {},
   "source": [
    "# Things to Remember for Later\n",
    "\n",
    "* After preprocessing, location of words will be all messed up.\n",
    "    - Problem: https://www.kaggle.com/c/nbme-score-clinical-patient-notes/discussion/304645, *need to scroll down to the comments to find this*\n",
    "    - Solution? https://www.kaggle.com/samarthagarwal23/understanding-data-creation-multi-span\n",
    "* Possible Validation Strategies below, no idea what they mean\n",
    "    - https://www.kaggle.com/c/nbme-score-clinical-patient-notes/discussion/305599\n",
    "* Bert Models seem to be the goto, but the different models have their own tradeoffs\n",
    "    - DistilBert - According to some post it was smaller yet performed about the same as BERT\n",
    "    - BioBERT - Specific to biomedical but maybe not much corpus(training data) related, https://www.kaggle.com/c/nbme-score-clinical-patient-notes/discussion/305793\n",
    "* Evaluation method is F1-Scoring, should read later\n",
    "    - https://www.kaggle.com/c/nbme-score-clinical-patient-notes/discussion/306997\n",
    "* No internet allowed during the kaggle submission, but there are ways to circumvent\n",
    "    - https://www.kaggle.com/c/nbme-score-clinical-patient-notes/discussion/305305"
   ]
  },
  {
   "cell_type": "code",
   "execution_count": null,
   "metadata": {},
   "outputs": [],
   "source": []
  }
 ],
 "metadata": {
  "interpreter": {
   "hash": "6ff2586aa919d367d857abdf0654ceb23b3066c28cdcdfd7b1ad9d0557f2fa84"
  },
  "kernelspec": {
   "display_name": "Python 3.9.7 64-bit",
   "language": "python",
   "name": "python3"
  },
  "language_info": {
   "codemirror_mode": {
    "name": "ipython",
    "version": 3
   },
   "file_extension": ".py",
   "mimetype": "text/x-python",
   "name": "python",
   "nbconvert_exporter": "python",
   "pygments_lexer": "ipython3",
   "version": "3.9.7"
  },
  "orig_nbformat": 4
 },
 "nbformat": 4,
 "nbformat_minor": 2
}

{
  "nbformat": 4,
  "nbformat_minor": 0,
  "metadata": {
    "colab": {
      "name": "spacy.ipynb",
      "provenance": [],
      "collapsed_sections": []
    },
    "kernelspec": {
      "name": "python3",
      "display_name": "Python 3"
    },
    "language_info": {
      "name": "python"
    }
  },
  "cells": [
    {
      "cell_type": "code",
      "execution_count": 13,
      "metadata": {
        "id": "5Y-5IlC8BP0y"
      },
      "outputs": [],
      "source": [
        "# must pip install spacy and scispacy using '!pip install <___>'\n",
        "import spacy\n",
        "import scispacy\n",
        "from spacy import displacy\n",
        "\n",
        "import pandas as pd\n",
        "\n",
        "# following line will install necessary corpus\n",
        "#!pip install https://s3-us-west-2.amazonaws.com/ai2-s2-scispacy/releases/v0.4.0/en_ner_bc5cdr_md-0.4.0.tar.gz"
      ]
    },
    {
      "cell_type": "code",
      "source": [
        "nlp = spacy.load(\"en_ner_bc5cdr_md\")          # load scispacy processor\n",
        "pNotes = pd.read_csv(\"patient_notes.csv\")     # load csv"
      ],
      "metadata": {
        "id": "PRn58SlpBvpY"
      },
      "execution_count": 6,
      "outputs": []
    },
    {
      "cell_type": "code",
      "source": [
        "note = pNotes.iloc[0].pn_history        # only consider first patient note for simplicity \n",
        "doc = nlp(note)                   # process first note\n",
        "\n",
        "print(\"TEXT\", \"START\", \"END\", \"ENTITY TYPE\")\n",
        "for ent in doc.ents:\n",
        "    print(\"\\\"\", ent.text, \"\\\"\", ent.start_char, ent.end_char, ent.label_)"
      ],
      "metadata": {
        "id": "TiScq82oIPrk",
        "colab": {
          "base_uri": "https://localhost:8080/"
        },
        "outputId": "5d2f1248-c97f-45a1-802c-87172481cdeb"
      },
      "execution_count": 10,
      "outputs": [
        {
          "output_type": "stream",
          "name": "stdout",
          "text": [
            "TEXT START END ENTITY TYPE\n",
            "\" heart pounding \" 71 85 DISEASE\n",
            "\" dispnea \" 302 309 DISEASE\n",
            "\" chest pain \" 432 442 DISEASE\n",
            "\" chills \" 463 469 DISEASE\n",
            "\" fever \" 470 475 DISEASE\n",
            "\" nausea \" 476 482 DISEASE\n",
            "\" vomiting \" 483 491 DISEASE\n",
            "\" edeam\r\n",
            "-pmh \" 498 509 CHEMICAL\n",
            "\" aderol \" 520 526 CHEMICAL\n",
            "\" thyroid dz\r\n",
            "-sh \" 587 602 DISEASE\n"
          ]
        }
      ]
    },
    {
      "cell_type": "code",
      "source": [
        "image = displacy.render(doc, jupyter=True, style='ent')"
      ],
      "metadata": {
        "colab": {
          "base_uri": "https://localhost:8080/",
          "height": 262
        },
        "id": "oxbT4dLTLdRp",
        "outputId": "c9d2de54-4172-4b28-bc2e-7a8b8f7a0b03"
      },
      "execution_count": 14,
      "outputs": [
        {
          "output_type": "display_data",
          "data": {
            "text/html": [
              "<span class=\"tex2jax_ignore\"><div class=\"entities\" style=\"line-height: 2.5; direction: ltr\">17-year-old male, has come to the student health clinic complaining of \n",
              "<mark class=\"entity\" style=\"background: #ddd; padding: 0.45em 0.6em; margin: 0 0.25em; line-height: 1; border-radius: 0.35em;\">\n",
              "    heart pounding\n",
              "    <span style=\"font-size: 0.8em; font-weight: bold; line-height: 1; border-radius: 0.35em; vertical-align: middle; margin-left: 0.5rem\">DISEASE</span>\n",
              "</mark>\n",
              ". Mr. Cleveland's mother has given verbal consent for a history, physical examination, and treatment\r</br>-began 2-3 months ago,sudden,intermittent for 2 days(lasting 3-4 min),worsening,non-allev/aggrav\r</br>-associated with \n",
              "<mark class=\"entity\" style=\"background: #ddd; padding: 0.45em 0.6em; margin: 0 0.25em; line-height: 1; border-radius: 0.35em;\">\n",
              "    dispnea\n",
              "    <span style=\"font-size: 0.8em; font-weight: bold; line-height: 1; border-radius: 0.35em; vertical-align: middle; margin-left: 0.5rem\">DISEASE</span>\n",
              "</mark>\n",
              " on exersion and rest,stressed out about school\r</br>-reports fe feels like his heart is jumping out of his chest\r</br>-ros:denies \n",
              "<mark class=\"entity\" style=\"background: #ddd; padding: 0.45em 0.6em; margin: 0 0.25em; line-height: 1; border-radius: 0.35em;\">\n",
              "    chest pain\n",
              "    <span style=\"font-size: 0.8em; font-weight: bold; line-height: 1; border-radius: 0.35em; vertical-align: middle; margin-left: 0.5rem\">DISEASE</span>\n",
              "</mark>\n",
              ",dyaphoresis,wt loss,\n",
              "<mark class=\"entity\" style=\"background: #ddd; padding: 0.45em 0.6em; margin: 0 0.25em; line-height: 1; border-radius: 0.35em;\">\n",
              "    chills\n",
              "    <span style=\"font-size: 0.8em; font-weight: bold; line-height: 1; border-radius: 0.35em; vertical-align: middle; margin-left: 0.5rem\">DISEASE</span>\n",
              "</mark>\n",
              ",\n",
              "<mark class=\"entity\" style=\"background: #ddd; padding: 0.45em 0.6em; margin: 0 0.25em; line-height: 1; border-radius: 0.35em;\">\n",
              "    fever\n",
              "    <span style=\"font-size: 0.8em; font-weight: bold; line-height: 1; border-radius: 0.35em; vertical-align: middle; margin-left: 0.5rem\">DISEASE</span>\n",
              "</mark>\n",
              ",\n",
              "<mark class=\"entity\" style=\"background: #ddd; padding: 0.45em 0.6em; margin: 0 0.25em; line-height: 1; border-radius: 0.35em;\">\n",
              "    nausea\n",
              "    <span style=\"font-size: 0.8em; font-weight: bold; line-height: 1; border-radius: 0.35em; vertical-align: middle; margin-left: 0.5rem\">DISEASE</span>\n",
              "</mark>\n",
              ",\n",
              "<mark class=\"entity\" style=\"background: #ddd; padding: 0.45em 0.6em; margin: 0 0.25em; line-height: 1; border-radius: 0.35em;\">\n",
              "    vomiting\n",
              "    <span style=\"font-size: 0.8em; font-weight: bold; line-height: 1; border-radius: 0.35em; vertical-align: middle; margin-left: 0.5rem\">DISEASE</span>\n",
              "</mark>\n",
              ",pedal \n",
              "<mark class=\"entity\" style=\"background: #ddd; padding: 0.45em 0.6em; margin: 0 0.25em; line-height: 1; border-radius: 0.35em;\">\n",
              "    edeam\r\n",
              "-pmh\n",
              "    <span style=\"font-size: 0.8em; font-weight: bold; line-height: 1; border-radius: 0.35em; vertical-align: middle; margin-left: 0.5rem\">CHEMICAL</span>\n",
              "</mark>\n",
              ":non,meds :\n",
              "<mark class=\"entity\" style=\"background: #ddd; padding: 0.45em 0.6em; margin: 0 0.25em; line-height: 1; border-radius: 0.35em;\">\n",
              "    aderol\n",
              "    <span style=\"font-size: 0.8em; font-weight: bold; line-height: 1; border-radius: 0.35em; vertical-align: middle; margin-left: 0.5rem\">CHEMICAL</span>\n",
              "</mark>\n",
              " (from a friend),nkda\r</br>-fh:father had MI recently,mother has \n",
              "<mark class=\"entity\" style=\"background: #ddd; padding: 0.45em 0.6em; margin: 0 0.25em; line-height: 1; border-radius: 0.35em;\">\n",
              "    thyroid dz\r\n",
              "-sh\n",
              "    <span style=\"font-size: 0.8em; font-weight: bold; line-height: 1; border-radius: 0.35em; vertical-align: middle; margin-left: 0.5rem\">DISEASE</span>\n",
              "</mark>\n",
              ":non-smoker,mariguana 5-6 months ago,3 beers on the weekend, basketball at school\r</br>-sh:no std</div></span>"
            ],
            "text/plain": [
              "<IPython.core.display.HTML object>"
            ]
          },
          "metadata": {}
        }
      ]
    }
  ]
}